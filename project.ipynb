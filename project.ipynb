{
 "cells": [
  {
   "cell_type": "markdown",
   "id": "93c4044e",
   "metadata": {},
   "source": [
    "Ok so lets gooo fire emoji"
   ]
  },
  {
   "cell_type": "code",
   "execution_count": 3,
   "id": "5f648753",
   "metadata": {},
   "outputs": [
    {
     "name": "stderr",
     "output_type": "stream",
     "text": [
      "c:\\Users\\Laure\\AppData\\Local\\Programs\\Python\\Python313\\Lib\\site-packages\\tqdm\\auto.py:21: TqdmWarning: IProgress not found. Please update jupyter and ipywidgets. See https://ipywidgets.readthedocs.io/en/stable/user_install.html\n",
      "  from .autonotebook import tqdm as notebook_tqdm\n"
     ]
    }
   ],
   "source": [
    "import numpy as np\n",
    "import pandas as pd\n",
    "import sklearn\n",
    "from sklearn.model_selection import train_test_split\n",
    "from transformers import DistilBertTokenizer, DistilBertForSequenceClassification, Trainer, TrainingArguments\n",
    "import torch\n",
    "\n",
    "label_map = {\n",
    "    \"Normal\": 0,\n",
    "    \"Depression\": 1,\n",
    "    \"Suicidal\": 2,\n",
    "    \"Anxiety\": 3,\n",
    "    \"Stress\": 4,\n",
    "    \"Bipolar\": 5,\n",
    "    \"Personality Disorder\": 6\n",
    "}\n",
    "\n",
    "\n",
    "db = pd.read_csv('Sentiment_analysis_dataset(in).csv')\n"
   ]
  },
  {
   "cell_type": "code",
   "execution_count": 4,
   "id": "84503945",
   "metadata": {},
   "outputs": [
    {
     "name": "stdout",
     "output_type": "stream",
     "text": [
      "Unique labels in dataset: ['Depression' 'Stress' 'Normal' 'Suicidal' 'Anxiety'\n",
      " 'Personality disorder' 'Bipolar' nan]\n"
     ]
    }
   ],
   "source": [
    "print(\"Unique labels in dataset:\", db['Status'].unique())\n"
   ]
  },
  {
   "cell_type": "code",
   "execution_count": null,
   "id": "85ded796",
   "metadata": {},
   "outputs": [
    {
     "name": "stdout",
     "output_type": "stream",
     "text": [
      "                                            Statement      Status\n",
      "0   life doesn’t feel worth it that’s kind of it? ...  Depression\n",
      "1   this life sucks and if it were for my religiou...  Depression\n",
      "2   its been 9 months now for our marriage and she...      Stress\n",
      "3   i do not feel particularly sad or anxious or a...  Depression\n",
      "4   i am taking venlafaxine. it is an ssri. does n...  Depression\n",
      "5   i (17m) have come to the realisation that my d...  Depression\n",
      "6   been on fluoxetine for year but anyway there s...  Depression\n",
      "7   even a four day week seems too long i want to ...      Normal\n",
      "8   i often had suicidal thoughts, recently, with ...    Suicidal\n",
      "9   this is the first time facing pisces. extro pa...      Normal\n",
      "10  being an orphan at your early stages of life b...  Depression\n",
      "11  the dread of thinking you have cancer... again...     Anxiety\n",
      "12  i (30f) married my husband (31m) about 6 month...      Stress\n",
      "13           what day is eid al-fitr if you may know?      Normal\n",
      "14  free counseling and support for anyone struggl...     Anxiety\n",
      "15  i am a joke, no friends, everyone thinks i am ...    Suicidal\n",
      "16  yet he says hes ready to go, nobody wants him ...    Suicidal\n",
      "17  @jonathanrknight aww that's really sweet of yo...      Normal\n",
      "19  i have been in a very toxic relationship where...    Suicidal\n",
      "20  if you live alone and no one checks on you, wh...    Suicidal\n"
     ]
    }
   ],
   "source": [
    "db = db.dropna(subset=['Statement', 'Status'])\n",
    "db['Status'] = db['Status'].str.strip().str.title()\n",
    "db['Statement'] = db['Statement'].apply(lambda x: x.lower())\n",
    "unmapped = set(db['Status'].unique()) - set(label_map.keys())\n",
    "if unmapped:\n",
    "    print(\"Warning: These labels aren't in your map:\", unmapped)\n",
    "    db = db[db['Status'].isin(label_map.keys())]\n",
    "\n",
    "statement = db['Statement'].tolist()\n",
    "status = db['Status'].tolist()\n",
    "\n",
    "print(db.head(20))"
   ]
  },
  {
   "cell_type": "code",
   "execution_count": 6,
   "id": "4f0fc530",
   "metadata": {},
   "outputs": [
    {
     "name": "stdout",
     "output_type": "stream",
     "text": [
      "training data size: 29500\n",
      "Testing data size: 7375\n"
     ]
    }
   ],
   "source": [
    "train_texts, val_texts, train_labels, val_labels = train_test_split(db['Statement'], db['Status'], test_size=0.2, random_state=42)\n",
    "\n",
    "train_labels = train_labels.reset_index(drop=True)\n",
    "val_labels = val_labels.reset_index(drop=True)\n",
    "\n",
    "print(f\"training data size: {len(train_texts)}\")\n",
    "print(f\"Testing data size: {len(val_texts)}\")"
   ]
  },
  {
   "cell_type": "code",
   "execution_count": 7,
   "id": "8e10e03c",
   "metadata": {},
   "outputs": [
    {
     "name": "stdout",
     "output_type": "stream",
     "text": [
      "<class 'pandas.core.series.Series'>\n",
      "<class 'str'>\n"
     ]
    }
   ],
   "source": [
    "tokenizer = DistilBertTokenizer.from_pretrained(\"distilbert-base-uncased\")\n",
    "train_encodings = tokenizer(train_texts.tolist(), truncation=True, padding=True)\n",
    "val_encodings = tokenizer(val_texts.tolist(), truncation=True,padding=True)\n",
    "\n",
    "print(type(train_texts))\n",
    "print(type(train_texts[0]))\n"
   ]
  },
  {
   "cell_type": "code",
   "execution_count": 8,
   "id": "12692a0b",
   "metadata": {},
   "outputs": [
    {
     "name": "stdout",
     "output_type": "stream",
     "text": [
      "36248    i want everyone to feel my pain i am sick of e...\n",
      "26254    home. had uni today, got results back :hd, yeh...\n",
      "8331                                          really? why?\n",
      "26739    i am not sure how much longer i can last. i al...\n",
      "18584    i feel so trapped in my mind, the feeling that...\n",
      "Name: Statement, dtype: object\n"
     ]
    }
   ],
   "source": [
    "print(train_texts.head())\n",
    "\n"
   ]
  },
  {
   "cell_type": "code",
   "execution_count": 9,
   "id": "95efd8fa",
   "metadata": {},
   "outputs": [],
   "source": [
    "class MentalHealthDataset(torch.utils.data.Dataset):\n",
    "    def __init__(self, encodings, labels, label_map):\n",
    "        self.encodings = encodings\n",
    "        self.labels = labels\n",
    "        self.label_map = label_map\n",
    "\n",
    "    def __getitem__(self, idx):\n",
    "        item = {key: torch.tensor(val[idx]) for key, val in self.encodings.items()}\n",
    "        label = self.labels.iloc[idx]\n",
    "        #item[\"labels\"] = torch.tensor(self.label_map[idx])\n",
    "        item[\"labels\"] = torch.tensor(self.label_map[label])\n",
    "        return item\n",
    "\n",
    "    def __len__(self):\n",
    "        return len(self.labels)\n",
    "\n",
    "train_dataset = MentalHealthDataset(train_encodings, train_labels, label_map)\n",
    "val_dataset = MentalHealthDataset(val_encodings, val_labels, label_map)"
   ]
  },
  {
   "cell_type": "code",
   "execution_count": 10,
   "id": "bba1febc",
   "metadata": {},
   "outputs": [
    {
     "name": "stderr",
     "output_type": "stream",
     "text": [
      "Some weights of DistilBertForSequenceClassification were not initialized from the model checkpoint at distilbert-base-uncased and are newly initialized: ['classifier.bias', 'classifier.weight', 'pre_classifier.bias', 'pre_classifier.weight']\n",
      "You should probably TRAIN this model on a down-stream task to be able to use it for predictions and inference.\n"
     ]
    }
   ],
   "source": [
    "model = DistilBertForSequenceClassification.from_pretrained(\"distilbert-base-uncased\", num_labels = 7)\n"
   ]
  },
  {
   "cell_type": "code",
   "execution_count": 11,
   "id": "b9ce8e42",
   "metadata": {},
   "outputs": [
    {
     "data": {
      "text/html": [
       "\n",
       "    <div>\n",
       "      \n",
       "      <progress value='11064' max='11064' style='width:300px; height:20px; vertical-align: middle;'></progress>\n",
       "      [11064/11064 10:41:30, Epoch 3/3]\n",
       "    </div>\n",
       "    <table border=\"1\" class=\"dataframe\">\n",
       "  <thead>\n",
       " <tr style=\"text-align: left;\">\n",
       "      <th>Epoch</th>\n",
       "      <th>Training Loss</th>\n",
       "      <th>Validation Loss</th>\n",
       "    </tr>\n",
       "  </thead>\n",
       "  <tbody>\n",
       "    <tr>\n",
       "      <td>1</td>\n",
       "      <td>0.500100</td>\n",
       "      <td>0.499798</td>\n",
       "    </tr>\n",
       "    <tr>\n",
       "      <td>2</td>\n",
       "      <td>0.365400</td>\n",
       "      <td>0.494076</td>\n",
       "    </tr>\n",
       "    <tr>\n",
       "      <td>3</td>\n",
       "      <td>0.261800</td>\n",
       "      <td>0.612386</td>\n",
       "    </tr>\n",
       "  </tbody>\n",
       "</table><p>"
      ],
      "text/plain": [
       "<IPython.core.display.HTML object>"
      ]
     },
     "metadata": {},
     "output_type": "display_data"
    },
    {
     "data": {
      "text/plain": [
       "TrainOutput(global_step=11064, training_loss=0.4172975892013859, metrics={'train_runtime': 38499.343, 'train_samples_per_second': 2.299, 'train_steps_per_second': 0.287, 'total_flos': 1.1724410128896e+16, 'train_loss': 0.4172975892013859, 'epoch': 3.0})"
      ]
     },
     "execution_count": 11,
     "metadata": {},
     "output_type": "execute_result"
    }
   ],
   "source": [
    "training_args = TrainingArguments(\n",
    "    output_dir=\"./results\",\n",
    "    per_device_train_batch_size=8,\n",
    "    per_device_eval_batch_size=8,\n",
    "    num_train_epochs=3,\n",
    "    eval_strategy=\"epoch\",\n",
    "    save_strategy=\"epoch\",\n",
    "    logging_dir='./logs',\n",
    ")\n",
    "\n",
    "trainer = Trainer(\n",
    "    model=model,\n",
    "    args=training_args,\n",
    "    train_dataset=train_dataset,\n",
    "    eval_dataset=val_dataset,\n",
    ")\n",
    "\n",
    "trainer.train()"
   ]
  },
  {
   "cell_type": "markdown",
   "id": "41eb8db2",
   "metadata": {},
   "source": [
    "The machine restarted a total of 3 times for one reaosn or another, and hence is not complete as of right now"
   ]
  },
  {
   "cell_type": "code",
   "execution_count": null,
   "id": "ae09f793",
   "metadata": {},
   "outputs": [],
   "source": []
  },
  {
   "cell_type": "code",
   "execution_count": 12,
   "id": "bf286cb5",
   "metadata": {},
   "outputs": [
    {
     "data": {
      "text/plain": [
       "('./model\\\\tokenizer_config.json',\n",
       " './model\\\\special_tokens_map.json',\n",
       " './model\\\\vocab.txt',\n",
       " './model\\\\added_tokens.json')"
      ]
     },
     "execution_count": 12,
     "metadata": {},
     "output_type": "execute_result"
    }
   ],
   "source": [
    "model_path = \"./model\"\n",
    "trainer.save_model(model_path)\n",
    "tokenizer.save_pretrained(model_path)"
   ]
  },
  {
   "cell_type": "code",
   "execution_count": 13,
   "id": "dee751d4",
   "metadata": {},
   "outputs": [
    {
     "ename": "NameError",
     "evalue": "name 'true_labels' is not defined",
     "output_type": "error",
     "traceback": [
      "\u001b[1;31m---------------------------------------------------------------------------\u001b[0m",
      "\u001b[1;31mNameError\u001b[0m                                 Traceback (most recent call last)",
      "Cell \u001b[1;32mIn[13], line 2\u001b[0m\n\u001b[0;32m      1\u001b[0m \u001b[38;5;28;01mfrom\u001b[39;00m\u001b[38;5;250m \u001b[39m\u001b[38;5;21;01msklearn\u001b[39;00m\u001b[38;5;21;01m.\u001b[39;00m\u001b[38;5;21;01mmetrics\u001b[39;00m\u001b[38;5;250m \u001b[39m\u001b[38;5;28;01mimport\u001b[39;00m accuracy_score\n\u001b[1;32m----> 2\u001b[0m accuracy \u001b[38;5;241m=\u001b[39m accuracy_score(\u001b[43mtrue_labels\u001b[49m, pred_labels)\n\u001b[0;32m      3\u001b[0m \u001b[38;5;28mprint\u001b[39m(\u001b[38;5;124m\"\u001b[39m\u001b[38;5;124mAccuracy:\u001b[39m\u001b[38;5;124m\"\u001b[39m, accuracy)\n",
      "\u001b[1;31mNameError\u001b[0m: name 'true_labels' is not defined"
     ]
    }
   ],
   "source": [
    "from sklearn.metrics import accuracy_score\n",
    "accuracy = accuracy_score(true_labels, pred_labels)\n",
    "print(\"Accuracy:\", accuracy)"
   ]
  },
  {
   "cell_type": "code",
   "execution_count": null,
   "id": "610c7e1c",
   "metadata": {},
   "outputs": [],
   "source": [
    "from transformers import DistilBertTokenizer, DistilBertForSequenceClassification\n",
    "\n",
    "model = DistilBertForSequenceClassification.from_pretrained(model_path)\n",
    "tokenizer = DistilBertTokenizer.from_pretrained(model_path)"
   ]
  },
  {
   "cell_type": "code",
   "execution_count": null,
   "id": "00877d56",
   "metadata": {},
   "outputs": [],
   "source": [
    "from sklearn.metrics import confusion_matrix\n",
    "import seaborn as sns\n",
    "import matplotlib.pyplot as plt\n",
    "\n",
    "cm = confusion_matrix(true_labels, pred_labels)\n",
    "plt.figure(figsize=(10,7))\n",
    "sns.heatmap(cm, annot=True, fmt='d', xticklabels=label_map.keys(), yticklabels=label_map.keys())\n",
    "plt.xlabel(\"Predicted\")\n",
    "plt.ylabel(\"Actual\")\n",
    "plt.title(\"Confusion Matrix\")\n",
    "plt.show()"
   ]
  }
 ],
 "metadata": {
  "kernelspec": {
   "display_name": "Python 3",
   "language": "python",
   "name": "python3"
  },
  "language_info": {
   "codemirror_mode": {
    "name": "ipython",
    "version": 3
   },
   "file_extension": ".py",
   "mimetype": "text/x-python",
   "name": "python",
   "nbconvert_exporter": "python",
   "pygments_lexer": "ipython3",
   "version": "3.13.2"
  }
 },
 "nbformat": 4,
 "nbformat_minor": 5
}
