{
 "cells": [
  {
   "cell_type": "markdown",
   "id": "93c4044e",
   "metadata": {},
   "source": [
    "Mental Health Classification Project"
   ]
  },
  {
   "cell_type": "code",
   "execution_count": 1,
   "id": "5f648753",
   "metadata": {},
   "outputs": [
    {
     "name": "stderr",
     "output_type": "stream",
     "text": [
      "c:\\Users\\Laure\\AppData\\Local\\Programs\\Python\\Python313\\Lib\\site-packages\\tqdm\\auto.py:21: TqdmWarning: IProgress not found. Please update jupyter and ipywidgets. See https://ipywidgets.readthedocs.io/en/stable/user_install.html\n",
      "  from .autonotebook import tqdm as notebook_tqdm\n"
     ]
    }
   ],
   "source": [
    "import numpy as np\n",
    "import pandas as pd\n",
    "import sklearn\n",
    "from sklearn.model_selection import train_test_split\n",
    "from transformers import DistilBertTokenizer, DistilBertForSequenceClassification, Trainer, TrainingArguments\n",
    "import torch\n",
    "\n",
    "label_map = {\n",
    "    \"Normal\": 0,\n",
    "    \"Depression\": 1,\n",
    "    \"Suicidal\": 2,\n",
    "    \"Anxiety\": 3,\n",
    "    \"Stress\": 4,\n",
    "    \"Bipolar\": 5,\n",
    "    \"Personality Disorder\": 6\n",
    "}\n",
    "\n",
    "\n",
    "db = pd.read_csv('Sentiment_analysis_dataset(in).csv')\n"
   ]
  },
  {
   "cell_type": "code",
   "execution_count": 2,
   "id": "84503945",
   "metadata": {},
   "outputs": [
    {
     "name": "stdout",
     "output_type": "stream",
     "text": [
      "Unique labels in dataset: ['Depression' 'Stress' 'Normal' 'Suicidal' 'Anxiety'\n",
      " 'Personality disorder' 'Bipolar' nan]\n"
     ]
    }
   ],
   "source": [
    "print(\"Unique labels in dataset:\", db['Status'].unique())\n"
   ]
  },
  {
   "cell_type": "code",
   "execution_count": 47,
   "id": "85ded796",
   "metadata": {},
   "outputs": [
    {
     "name": "stdout",
     "output_type": "stream",
     "text": [
      "                                            Statement      Status\n",
      "0   life doesn’t feel worth it that’s kind of it? ...  Depression\n",
      "1   this life sucks and if it were for my religiou...  Depression\n",
      "2   its been 9 months now for our marriage and she...      Stress\n",
      "3   i do not feel particularly sad or anxious or a...  Depression\n",
      "4   i am taking venlafaxine. it is an ssri. does n...  Depression\n",
      "5   i (17m) have come to the realisation that my d...  Depression\n",
      "6   been on fluoxetine for year but anyway there s...  Depression\n",
      "7   even a four day week seems too long i want to ...      Normal\n",
      "8   i often had suicidal thoughts, recently, with ...    Suicidal\n",
      "9   this is the first time facing pisces. extro pa...      Normal\n",
      "10  being an orphan at your early stages of life b...  Depression\n",
      "11  the dread of thinking you have cancer... again...     Anxiety\n",
      "12  i (30f) married my husband (31m) about 6 month...      Stress\n",
      "13           what day is eid al-fitr if you may know?      Normal\n",
      "14  free counseling and support for anyone struggl...     Anxiety\n",
      "15  i am a joke, no friends, everyone thinks i am ...    Suicidal\n",
      "16  yet he says hes ready to go, nobody wants him ...    Suicidal\n",
      "17  @jonathanrknight aww that's really sweet of yo...      Normal\n",
      "19  i have been in a very toxic relationship where...    Suicidal\n",
      "20  if you live alone and no one checks on you, wh...    Suicidal\n"
     ]
    }
   ],
   "source": [
    "db = db.dropna(subset=['Statement', 'Status'])\n",
    "db['Status'] = db['Status'].str.strip().str.title()\n",
    "db['Statement'] = db['Statement'].apply(lambda x: x.lower())\n",
    "unmapped = set(db['Status'].unique()) - set(label_map.keys())\n",
    "if unmapped:\n",
    "    print(\"Warning: These labels aren't in your map:\", unmapped)\n",
    "    db = db[db['Status'].isin(label_map.keys())]\n",
    "\n",
    "statement = db['Statement'].tolist()\n",
    "status = db['Status'].tolist()\n",
    "\n",
    "print(db.head(20))"
   ]
  },
  {
   "cell_type": "code",
   "execution_count": 4,
   "id": "4f0fc530",
   "metadata": {},
   "outputs": [
    {
     "name": "stdout",
     "output_type": "stream",
     "text": [
      "training data size: 29500\n",
      "Testing data size: 7375\n"
     ]
    }
   ],
   "source": [
    "train_texts, val_texts, train_labels, val_labels = train_test_split(db['Statement'], db['Status'], test_size=0.2, random_state=42)\n",
    "\n",
    "train_labels = train_labels.reset_index(drop=True)\n",
    "val_labels = val_labels.reset_index(drop=True)\n",
    "\n",
    "print(f\"training data size: {len(train_texts)}\")\n",
    "print(f\"Testing data size: {len(val_texts)}\")"
   ]
  },
  {
   "cell_type": "code",
   "execution_count": 5,
   "id": "8e10e03c",
   "metadata": {},
   "outputs": [
    {
     "name": "stdout",
     "output_type": "stream",
     "text": [
      "<class 'pandas.core.series.Series'>\n",
      "<class 'str'>\n"
     ]
    }
   ],
   "source": [
    "tokenizer = DistilBertTokenizer.from_pretrained(\"distilbert-base-uncased\")\n",
    "train_encodings = tokenizer(train_texts.tolist(), truncation=True, padding=True)\n",
    "val_encodings = tokenizer(val_texts.tolist(), truncation=True,padding=True)\n",
    "\n",
    "print(type(train_texts))\n",
    "print(type(train_texts[0]))\n"
   ]
  },
  {
   "cell_type": "code",
   "execution_count": 6,
   "id": "12692a0b",
   "metadata": {},
   "outputs": [
    {
     "name": "stdout",
     "output_type": "stream",
     "text": [
      "36248    i want everyone to feel my pain i am sick of e...\n",
      "26254    home. had uni today, got results back :hd, yeh...\n",
      "8331                                          really? why?\n",
      "26739    i am not sure how much longer i can last. i al...\n",
      "18584    i feel so trapped in my mind, the feeling that...\n",
      "Name: Statement, dtype: object\n"
     ]
    }
   ],
   "source": [
    "print(train_texts.head())\n",
    "\n"
   ]
  },
  {
   "cell_type": "code",
   "execution_count": 7,
   "id": "95efd8fa",
   "metadata": {},
   "outputs": [],
   "source": [
    "class MentalHealthDataset(torch.utils.data.Dataset):\n",
    "    def __init__(self, encodings, labels, label_map):\n",
    "        self.encodings = encodings\n",
    "        self.labels = labels\n",
    "        self.label_map = label_map\n",
    "\n",
    "    def __getitem__(self, idx):\n",
    "        item = {key: torch.tensor(val[idx]) for key, val in self.encodings.items()}\n",
    "        label = self.labels.iloc[idx]\n",
    "        #item[\"labels\"] = torch.tensor(self.label_map[idx])\n",
    "        item[\"labels\"] = torch.tensor(self.label_map[label])\n",
    "        return item\n",
    "\n",
    "    def __len__(self):\n",
    "        return len(self.labels)\n",
    "\n",
    "train_dataset = MentalHealthDataset(train_encodings, train_labels, label_map)\n",
    "val_dataset = MentalHealthDataset(val_encodings, val_labels, label_map)"
   ]
  },
  {
   "cell_type": "code",
   "execution_count": 8,
   "id": "bba1febc",
   "metadata": {},
   "outputs": [
    {
     "name": "stderr",
     "output_type": "stream",
     "text": [
      "Some weights of DistilBertForSequenceClassification were not initialized from the model checkpoint at distilbert-base-uncased and are newly initialized: ['classifier.bias', 'classifier.weight', 'pre_classifier.bias', 'pre_classifier.weight']\n",
      "You should probably TRAIN this model on a down-stream task to be able to use it for predictions and inference.\n"
     ]
    }
   ],
   "source": [
    "model = DistilBertForSequenceClassification.from_pretrained(\"distilbert-base-uncased\", num_labels = 7)\n"
   ]
  },
  {
   "cell_type": "code",
   "execution_count": null,
   "id": "b9ce8e42",
   "metadata": {},
   "outputs": [
    {
     "data": {
      "text/html": [
       "\n",
       "    <div>\n",
       "      \n",
       "      <progress value='11064' max='11064' style='width:300px; height:20px; vertical-align: middle;'></progress>\n",
       "      [11064/11064 10:41:30, Epoch 3/3]\n",
       "    </div>\n",
       "    <table border=\"1\" class=\"dataframe\">\n",
       "  <thead>\n",
       " <tr style=\"text-align: left;\">\n",
       "      <th>Epoch</th>\n",
       "      <th>Training Loss</th>\n",
       "      <th>Validation Loss</th>\n",
       "    </tr>\n",
       "  </thead>\n",
       "  <tbody>\n",
       "    <tr>\n",
       "      <td>1</td>\n",
       "      <td>0.500100</td>\n",
       "      <td>0.499798</td>\n",
       "    </tr>\n",
       "    <tr>\n",
       "      <td>2</td>\n",
       "      <td>0.365400</td>\n",
       "      <td>0.494076</td>\n",
       "    </tr>\n",
       "    <tr>\n",
       "      <td>3</td>\n",
       "      <td>0.261800</td>\n",
       "      <td>0.612386</td>\n",
       "    </tr>\n",
       "  </tbody>\n",
       "</table><p>"
      ],
      "text/plain": [
       "<IPython.core.display.HTML object>"
      ]
     },
     "metadata": {},
     "output_type": "display_data"
    },
    {
     "data": {
      "text/plain": [
       "TrainOutput(global_step=11064, training_loss=0.4172975892013859, metrics={'train_runtime': 38499.343, 'train_samples_per_second': 2.299, 'train_steps_per_second': 0.287, 'total_flos': 1.1724410128896e+16, 'train_loss': 0.4172975892013859, 'epoch': 3.0})"
      ]
     },
     "execution_count": 11,
     "metadata": {},
     "output_type": "execute_result"
    }
   ],
   "source": [
    "training_args = TrainingArguments(\n",
    "    output_dir=\"./results\",\n",
    "    per_device_train_batch_size=8,\n",
    "    per_device_eval_batch_size=8,\n",
    "    num_train_epochs=3,\n",
    "    eval_strategy=\"epoch\",\n",
    ")\n",
    "\n",
    "trainer = Trainer(\n",
    "    model=model,\n",
    "    args=training_args,\n",
    "    train_dataset=train_dataset,\n",
    "    eval_dataset=val_dataset,\n",
    ")\n",
    "\n",
    "trainer.train()"
   ]
  },
  {
   "cell_type": "code",
   "execution_count": 11,
   "id": "9abc9f04",
   "metadata": {},
   "outputs": [],
   "source": [
    "training_args = TrainingArguments(\n",
    "    output_dir=\"./results\",\n",
    "    per_device_train_batch_size=8,\n",
    "    per_device_eval_batch_size=8,\n",
    "    num_train_epochs=3,\n",
    "    eval_strategy=\"epoch\",\n",
    "    save_strategy=\"epoch\",\n",
    "    logging_dir='./logs',\n",
    ")\n",
    "\n",
    "trainer = Trainer(\n",
    "    model=model,\n",
    "    args=training_args,\n",
    "    train_dataset=train_dataset,\n",
    "    eval_dataset=val_dataset,\n",
    ")"
   ]
  },
  {
   "cell_type": "code",
   "execution_count": 12,
   "id": "bf286cb5",
   "metadata": {},
   "outputs": [],
   "source": [
    "model_path = \"./model\"\n",
    "trainer.save_model(model_path)\n",
    "tokenizer.save_pretrained(model_path)\n",
    "trainer.save_state()\n"
   ]
  },
  {
   "cell_type": "code",
   "execution_count": 14,
   "id": "a5b32204",
   "metadata": {},
   "outputs": [],
   "source": [
    "from sklearn.metrics import accuracy_score, f1_score\n",
    "\n",
    "def compute_metrics(pred):\n",
    "    preds = pred.predictions.argmax(-1)\n",
    "    labels = pred.label_ids\n",
    "    return {\n",
    "        \"accuracy\": accuracy_score(labels, preds),\n",
    "        \"f1\": f1_score(labels, preds, average='weighted')\n",
    "    }"
   ]
  },
  {
   "cell_type": "code",
   "execution_count": 37,
   "id": "075bb364",
   "metadata": {},
   "outputs": [],
   "source": [
    "trainer = Trainer(\n",
    "    model=model,\n",
    "    args=training_args,\n",
    "    train_dataset=train_dataset,\n",
    "    eval_dataset=val_dataset,\n",
    "    compute_metrics=compute_metrics\n",
    ")"
   ]
  },
  {
   "cell_type": "code",
   "execution_count": 21,
   "id": "91e68088",
   "metadata": {},
   "outputs": [],
   "source": [
    "import torch\n",
    "\n",
    "def predict_label(text, model, tokenizer, label_map):\n",
    "    inputs = tokenizer(text, return_tensors=\"pt\", truncation=True, padding=True)\n",
    "    outputs = model(**inputs)\n",
    "    probs = torch.nn.functional.softmax(outputs.logits, dim=1)\n",
    "    \n",
    "    predicted_label_id = torch.argmax(probs, dim=1).item()\n",
    "    label_name = list(label_map.keys())[list(label_map.values()).index(predicted_label_id)]\n",
    "    \n",
    "    return label_name, probs.detach().numpy()"
   ]
  },
  {
   "cell_type": "code",
   "execution_count": 34,
   "id": "beb87dc6",
   "metadata": {},
   "outputs": [
    {
     "name": "stdout",
     "output_type": "stream",
     "text": [
      "Input: I am so stressed out and tired. I'm so done\n",
      "Predicted Label: Normal\n",
      "---\n",
      "Input: Life is so empty and hopeless\n",
      "Predicted Label: Suicidal\n",
      "---\n",
      "Input: I'm fine. Nice weather today!\n",
      "Predicted Label: Suicidal\n",
      "---\n",
      "Input: I have so much homework I'm gonna fail my class.\n",
      "Predicted Label: Normal\n",
      "---\n",
      "Input: My dog died. Life has become dull and I'm really sad.\n",
      "Predicted Label: Normal\n",
      "---\n",
      "Input: I'm always mad or sad what the hell.\n",
      "Predicted Label: Normal\n",
      "---\n",
      "Input: sometimes i hear voices and they confuse me\n",
      "Predicted Label: Normal\n",
      "---\n",
      "Input: I'm depressed\n",
      "Predicted Label: Suicidal\n",
      "---\n",
      "Input: I'm anxious\n",
      "Predicted Label: Suicidal\n",
      "---\n"
     ]
    }
   ],
   "source": [
    "test_statements = [\n",
    "    \"I am so stressed out and tired. I'm so done\",\n",
    "    \"Life is so empty and hopeless\",\n",
    "    \"I'm fine. Nice weather today!\",\n",
    "    \"I have so much homework I'm gonna fail my class.\",\n",
    "    \"My dog died. Life has become dull and I'm really sad.\",\n",
    "    \"I'm always mad or sad what the hell.\",\n",
    "    \"sometimes i hear voices and they confuse me\",\n",
    "    \"I'm depressed\",\n",
    "    \"I'm anxious\"\n",
    "]\n",
    "\n",
    "for text in test_statements:\n",
    "    label, _ = predict_label(text, model, tokenizer, label_map)\n",
    "    print(f\"Input: {text}\")\n",
    "    print(f\"Predicted Label: {label}\")\n",
    "    print(\"---\")"
   ]
  },
  {
   "cell_type": "code",
   "execution_count": 31,
   "id": "9fe7b8a5",
   "metadata": {},
   "outputs": [
    {
     "data": {
      "text/plain": [
       "{'eval_loss': 1.947523832321167,\n",
       " 'eval_model_preparation_time': 0.0038,\n",
       " 'eval_accuracy': 0.09084745762711864,\n",
       " 'eval_f1': 0.05975041524765646,\n",
       " 'eval_runtime': 1435.9369,\n",
       " 'eval_samples_per_second': 5.136,\n",
       " 'eval_steps_per_second': 0.642}"
      ]
     },
     "execution_count": 31,
     "metadata": {},
     "output_type": "execute_result"
    }
   ],
   "source": [
    "trainer.evaluate()"
   ]
  },
  {
   "cell_type": "code",
   "execution_count": 44,
   "id": "b3d39067",
   "metadata": {},
   "outputs": [
    {
     "name": "stdout",
     "output_type": "stream",
     "text": [
      "Class Weights: tensor([0.4618, 0.4876, 0.6994, 1.9638, 2.8944, 2.7726, 7.2162])\n"
     ]
    },
    {
     "name": "stderr",
     "output_type": "stream",
     "text": [
      "Some weights of WeightedDistilBERT were not initialized from the model checkpoint at distilbert-base-uncased and are newly initialized: ['classifier.bias', 'classifier.weight', 'pre_classifier.bias', 'pre_classifier.weight']\n",
      "You should probably TRAIN this model on a down-stream task to be able to use it for predictions and inference.\n"
     ]
    }
   ],
   "source": [
    "from sklearn.utils.class_weight import compute_class_weight\n",
    "train_labels_int = train_labels.map(label_map)\n",
    "class_weights = compute_class_weight(\n",
    "    class_weight='balanced',\n",
    "    classes=np.unique(list(label_map.values())),\n",
    "    y=train_labels_int\n",
    ")\n",
    "class_weights = torch.tensor(class_weights, dtype=torch.float)\n",
    "print(\"Class Weights:\", class_weights)\n",
    "\n",
    "from transformers import DistilBertConfig\n",
    "import torch.nn as nn\n",
    "from transformers import DistilBertForSequenceClassification\n",
    "\n",
    "class WeightedDistilBERT(DistilBertForSequenceClassification):\n",
    "    def __init__(self, config, class_weights=None):\n",
    "        super().__init__(config)\n",
    "        self.class_weights = class_weights\n",
    "\n",
    "    def forward(self, input_ids=None, attention_mask=None, labels=None, **kwargs):\n",
    "        kwargs.pop(\"num_items_in_batch\", None)\n",
    "\n",
    "        outputs = super().forward(input_ids=input_ids, attention_mask=attention_mask, labels=None, **kwargs)\n",
    "        logits = outputs.logits\n",
    "\n",
    "        loss = None\n",
    "        if labels is not None:\n",
    "            loss_fct = nn.CrossEntropyLoss(weight=self.class_weights.to(logits.device))\n",
    "            loss = loss_fct(logits, labels)\n",
    "\n",
    "        return {\n",
    "            \"loss\": loss,\n",
    "            \"logits\": logits,\n",
    "            \"hidden_states\": outputs.hidden_states,\n",
    "            \"attentions\": outputs.attentions,\n",
    "        }\n",
    "\n",
    "config = DistilBertConfig.from_pretrained(\"distilbert-base-uncased\", num_labels=7)\n",
    "model = WeightedDistilBERT.from_pretrained(\n",
    "    \"distilbert-base-uncased\",\n",
    "    config=config,\n",
    "    local_files_only=False,\n",
    "    class_weights = class_weights\n",
    ")"
   ]
  },
  {
   "cell_type": "code",
   "execution_count": 45,
   "id": "05459f12",
   "metadata": {},
   "outputs": [],
   "source": [
    "model2_path = \"./model2\"\n",
    "trainer.save_model(model2_path)\n",
    "tokenizer.save_pretrained(model2_path)\n",
    "trainer.save_state()"
   ]
  },
  {
   "cell_type": "code",
   "execution_count": 42,
   "id": "96058c1a",
   "metadata": {},
   "outputs": [
    {
     "data": {
      "text/html": [
       "\n",
       "    <div>\n",
       "      \n",
       "      <progress value='11064' max='11064' style='width:300px; height:20px; vertical-align: middle;'></progress>\n",
       "      [11064/11064 15:17:43, Epoch 3/3]\n",
       "    </div>\n",
       "    <table border=\"1\" class=\"dataframe\">\n",
       "  <thead>\n",
       " <tr style=\"text-align: left;\">\n",
       "      <th>Epoch</th>\n",
       "      <th>Training Loss</th>\n",
       "      <th>Validation Loss</th>\n",
       "    </tr>\n",
       "  </thead>\n",
       "  <tbody>\n",
       "    <tr>\n",
       "      <td>1</td>\n",
       "      <td>0.571400</td>\n",
       "      <td>0.596059</td>\n",
       "    </tr>\n",
       "    <tr>\n",
       "      <td>2</td>\n",
       "      <td>0.400700</td>\n",
       "      <td>0.617954</td>\n",
       "    </tr>\n",
       "    <tr>\n",
       "      <td>3</td>\n",
       "      <td>0.343000</td>\n",
       "      <td>0.662998</td>\n",
       "    </tr>\n",
       "  </tbody>\n",
       "</table><p>"
      ],
      "text/plain": [
       "<IPython.core.display.HTML object>"
      ]
     },
     "metadata": {},
     "output_type": "display_data"
    },
    {
     "data": {
      "text/plain": [
       "TrainOutput(global_step=11064, training_loss=0.49908538426684024, metrics={'train_runtime': 55072.2081, 'train_samples_per_second': 1.607, 'train_steps_per_second': 0.201, 'total_flos': 1.1724410128896e+16, 'train_loss': 0.49908538426684024, 'epoch': 3.0})"
      ]
     },
     "execution_count": 42,
     "metadata": {},
     "output_type": "execute_result"
    }
   ],
   "source": [
    "training_args = TrainingArguments(\n",
    "    output_dir=\"./results\",\n",
    "    per_device_train_batch_size=8,\n",
    "    per_device_eval_batch_size=8,\n",
    "    num_train_epochs=3,\n",
    "    learning_rate=2e-5,\n",
    "    weight_decay=0.01,\n",
    "    load_best_model_at_end=True,\n",
    "    greater_is_better=False,\n",
    "    metric_for_best_model=\"eval_loss\",\n",
    "    eval_strategy=\"epoch\",\n",
    "    save_strategy=\"epoch\"\n",
    ")\n",
    "\n",
    "trainer = Trainer(\n",
    "    model=model,\n",
    "    args=training_args,\n",
    "    train_dataset=train_dataset,\n",
    "    eval_dataset=val_dataset,\n",
    ")\n",
    "\n",
    "trainer.train()"
   ]
  },
  {
   "cell_type": "code",
   "execution_count": 43,
   "id": "f13c0596",
   "metadata": {},
   "outputs": [
    {
     "data": {
      "image/png": "[encoded data removed]",
      "text/plain": [
       "<Figure size 640x480 with 1 Axes>"
      ]
     },
     "metadata": {},
     "output_type": "display_data"
    }
   ],
   "source": [
    "import matplotlib.pyplot as plt #running to visualizing the thing:\n",
    "\n",
    "\n",
    "train_loss = [0.5714, 0.4007, 0.3430]\n",
    "val_loss = [0.5961, 0.6180, 0.6630]\n",
    "\n",
    "plt.plot(train_loss, label=\"Train\")\n",
    "plt.plot(val_loss, label=\"Validation\")\n",
    "plt.xlabel(\"Epoch\")\n",
    "plt.ylabel(\"Loss\")\n",
    "plt.legend()\n",
    "plt.title(\"Loss over Epochs\")\n",
    "plt.show()"
   ]
  },
  {
   "cell_type": "code",
   "execution_count": 46,
   "id": "33c6f69e",
   "metadata": {},
   "outputs": [
    {
     "name": "stderr",
     "output_type": "stream",
     "text": [
      "C:\\Users\\Laure\\AppData\\Local\\Temp\\ipykernel_5160\\1599573546.py:25: FutureWarning: `tokenizer` is deprecated and will be removed in version 5.0.0 for `Trainer.__init__`. Use `processing_class` instead.\n",
      "  trainer = Trainer(\n"
     ]
    },
    {
     "data": {
      "text/html": [
       "\n",
       "    <div>\n",
       "      \n",
       "      <progress value='11064' max='18440' style='width:300px; height:20px; vertical-align: middle;'></progress>\n",
       "      [11064/18440 15:42:27 < 10:28:25, 0.20 it/s, Epoch 3/5]\n",
       "    </div>\n",
       "    <table border=\"1\" class=\"dataframe\">\n",
       "  <thead>\n",
       " <tr style=\"text-align: left;\">\n",
       "      <th>Epoch</th>\n",
       "      <th>Training Loss</th>\n",
       "      <th>Validation Loss</th>\n",
       "    </tr>\n",
       "  </thead>\n",
       "  <tbody>\n",
       "    <tr>\n",
       "      <td>1</td>\n",
       "      <td>0.616300</td>\n",
       "      <td>0.597225</td>\n",
       "    </tr>\n",
       "    <tr>\n",
       "      <td>2</td>\n",
       "      <td>0.439600</td>\n",
       "      <td>0.596044</td>\n",
       "    </tr>\n",
       "    <tr>\n",
       "      <td>3</td>\n",
       "      <td>0.318000</td>\n",
       "      <td>0.714337</td>\n",
       "    </tr>\n",
       "  </tbody>\n",
       "</table><p>"
      ],
      "text/plain": [
       "<IPython.core.display.HTML object>"
      ]
     },
     "metadata": {},
     "output_type": "display_data"
    },
    {
     "data": {
      "text/plain": [
       "TrainOutput(global_step=11064, training_loss=0.5057889125697094, metrics={'train_runtime': 56554.8254, 'train_samples_per_second': 2.608, 'train_steps_per_second': 0.326, 'total_flos': 1.1724410128896e+16, 'train_loss': 0.5057889125697094, 'epoch': 3.0})"
      ]
     },
     "execution_count": 46,
     "metadata": {},
     "output_type": "execute_result"
    }
   ],
   "source": [
    "from transformers import DistilBertConfig\n",
    "from transformers import EarlyStoppingCallback\n",
    "\n",
    "config = DistilBertConfig.from_pretrained(\n",
    "    \"distilbert-base-uncased\",\n",
    "    num_labels=7,\n",
    "    dropout=0.3,\n",
    "    attention_dropout=0.3\n",
    ")\n",
    "\n",
    "training_args = TrainingArguments(\n",
    "    output_dir=\"./results\",\n",
    "    per_device_train_batch_size=8,\n",
    "    per_device_eval_batch_size=8,\n",
    "    num_train_epochs=5,\n",
    "    learning_rate=3e-5,\n",
    "    weight_decay=0.01,\n",
    "    load_best_model_at_end=True,\n",
    "    greater_is_better=False,\n",
    "    metric_for_best_model=\"eval_loss\",\n",
    "    eval_strategy=\"epoch\",\n",
    "    save_strategy=\"epoch\"\n",
    ")\n",
    "\n",
    "trainer = Trainer(\n",
    "    model=model,\n",
    "    args=training_args,\n",
    "    train_dataset=train_dataset,\n",
    "    eval_dataset=val_dataset,\n",
    "    callbacks=[EarlyStoppingCallback(early_stopping_patience=1)],\n",
    "    tokenizer = tokenizer\n",
    ")\n",
    "\n",
    "trainer.train()"
   ]
  }
 ],
 "metadata": {
  "kernelspec": {
   "display_name": "Python 3",
   "language": "python",
   "name": "python3"
  },
  "language_info": {
   "codemirror_mode": {
    "name": "ipython",
    "version": 3
   },
   "file_extension": ".py",
   "mimetype": "text/x-python",
   "name": "python",
   "nbconvert_exporter": "python",
   "pygments_lexer": "ipython3",
   "version": "3.13.2"
  }
 },
 "nbformat": 4,
 "nbformat_minor": 5
}
